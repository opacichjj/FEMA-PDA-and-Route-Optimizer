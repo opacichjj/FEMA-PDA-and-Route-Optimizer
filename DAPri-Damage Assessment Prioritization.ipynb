{
 "cells": [
  {
   "cell_type": "markdown",
   "metadata": {},
   "source": [
    "## Damage Assessment Prioritization (DAPRI)\n",
    "### DSI-8    August 2019\n",
    "\n",
    "### Team: Sade Ekulona, Nick Minaie, Jeremy Opacich, Andrew Picart \n"
   ]
  },
  {
   "cell_type": "markdown",
   "metadata": {},
   "source": [
    "### Problem Statement\n",
    "Given a list of properties including the address, lat/long, damage level, damage comments, and the applicant's estimate of the damage (in $$), and other information, prioritize the properties for site visit and damage assessment. The idea is to prioritize properties that are in higher need of assessment for receiving funds sooner.\n",
    "\n",
    "### Summary of the DAPri Algorithm\n",
    "The DAPri algorithm works in three steps, as described below. For each property, a `Priority Index` is calculated as below:\n",
    "\n",
    "            Priority Index =   (Damage Level) \n",
    "                             * (Home Safe To Live)\n",
    "                             * (Level of Access to Utilities)\n",
    "                             * (Level of Insurance Coverage)\n",
    "                             * {(Application Estimate) / (Estimated Home Value)}\n",
    "\n",
    "#### Damage Level (scale 0-3):\n",
    "When looking at property damage levels, it should be noted that according to FEMA there are four levels of damage (shown in the table below). Damage levels are assigned on a scale of 1~4 according to these levels.\n",
    "\n",
    "| FEMA Damage Level | Score |\n",
    "|-------------------|------------------------|\n",
    "| Destroyed | 3|\n",
    "| Major | 2 |\n",
    "| Minor | 1 |\n",
    "|Affected with an Inaccessible category for<br>the homes that cannot be reached for assessment| 0|\n",
    "\n",
    "**NOTE:** The reason inaccessible properties are scored at 0 for their damage level is that they cannot be reached for assessment, and until they become accessible they are prioritized as '0' (or low priority) for the time being.\n",
    "                            \n",
    "This means, these properties will be pushed to the end of the list, until they become accessible after which the prioritization should be run with the revised damage levels.\n",
    "\n",
    "#### Home Safe to Live (scale 1-2):\n",
    "This takes into account if the damaged home is safe to live in or not. Some levels of damage may or may not lead to unsafe situations. Those properties that are no longer safe to live in get higher priority.\n",
    "\n",
    "|Safe to Live | Score |\n",
    "|------------|-------|\n",
    "|Yes| 1|\n",
    "|No|2|\n",
    "\n",
    "#### Access to Utilities (scale 1-3):\n",
    "Those properties that have lost access to basic utilities, or have partial access to utilities get higher priority.\n",
    "\n",
    "|Level of Access to Utilities | Score|\n",
    "|-----------------------------|------|\n",
    "| Full access to all utilities| 1|\n",
    "|Partial access to utilities | 2|\n",
    "| No access to utilities | 3|\n",
    "\n",
    "#### Level of Insurance Coverage (scale 0 to 1, float):\n",
    "Those properties that have full or partial coverage get lower priority than those which do not have any insurance coverage for the type of disaster.\n",
    "\n",
    "|Level of Insurance Coverage| Score|\n",
    "|-----------------------------|------|\n",
    "| Full Coverage| 0|\n",
    "|Partial Coverage | 1|\n",
    "| No Coverage | 2|\n",
    "\n",
    "#### Damage Estimate over Estimate Home Value\n",
    "This metric provides a ratio of the level of damage (in monetary value) provided by the applicant over the total home value. Properties that have suffered significant damage compared to their total value will get higher priority. The reason the damage estimate is divided by home value is to remove any bias toward wealthy neighborhoods, where a minor damage may cost more than a total price in under-privileged areas. Therefore, the focus will be on the portion of the home value that was affected by the damage, as opposed to the total damage cost.\n",
    "\n",
    "### Steps for Prioritization:\n",
    "- Calculate a `Priority Index` (PI) for each property\n",
    "- Cluster properties based on their lat/long (DBSCAN)\n",
    "- Calculate average of PI for each cluster\n",
    "- Sort clusters based on their average PI\n",
    "- Sort properties in each cluster based on their individual PIs\n",
    "- Save the list of prioritized properties to a `.csv` file\n"
   ]
  },
  {
   "cell_type": "code",
   "execution_count": 40,
   "metadata": {},
   "outputs": [],
   "source": [
    "# Imports\n",
    "import googlemaps\n",
    "from datetime import datetime\n",
    "import pandas as pd\n",
    "import matplotlib.pyplot as plt\n",
    "import gmaps as gm\n",
    "import numpy as np\n",
    "\n",
    "# Muting warnings\n",
    "import warnings\n",
    "warnings.filterwarnings(\"ignore\")"
   ]
  },
  {
   "cell_type": "code",
   "execution_count": 41,
   "metadata": {},
   "outputs": [],
   "source": [
    "# Reading API key\n",
    "with open('/Users/nick/dsi/google_api.txt') as f:\n",
    "    api_key = f.readline()[:-1]\n",
    "    f.close"
   ]
  },
  {
   "cell_type": "code",
   "execution_count": 42,
   "metadata": {},
   "outputs": [],
   "source": [
    "# Instantiate Google Maps Extension for Jupyter Notebooks for inline maps\n",
    "gm.configure(api_key=api_key)"
   ]
  },
  {
   "cell_type": "code",
   "execution_count": 43,
   "metadata": {},
   "outputs": [
    {
     "data": {
      "text/html": [
       "<div>\n",
       "<style scoped>\n",
       "    .dataframe tbody tr th:only-of-type {\n",
       "        vertical-align: middle;\n",
       "    }\n",
       "\n",
       "    .dataframe tbody tr th {\n",
       "        vertical-align: top;\n",
       "    }\n",
       "\n",
       "    .dataframe thead th {\n",
       "        text-align: right;\n",
       "    }\n",
       "</style>\n",
       "<table border=\"1\" class=\"dataframe\">\n",
       "  <thead>\n",
       "    <tr style=\"text-align: right;\">\n",
       "      <th></th>\n",
       "      <th>address</th>\n",
       "      <th>lat</th>\n",
       "      <th>long</th>\n",
       "      <th>app_comment</th>\n",
       "      <th>damage</th>\n",
       "      <th>app_estimate</th>\n",
       "      <th>safe_to_live</th>\n",
       "      <th>utils_on</th>\n",
       "      <th>insured</th>\n",
       "      <th>est_home_value</th>\n",
       "    </tr>\n",
       "  </thead>\n",
       "  <tbody>\n",
       "    <tr>\n",
       "      <th>0</th>\n",
       "      <td>515 Priscilla St,Salisbury,MD,21804</td>\n",
       "      <td>38.377597</td>\n",
       "      <td>-75.581648</td>\n",
       "      <td>Lorem ipsum dolor sit amet, consectetur adipis...</td>\n",
       "      <td>0</td>\n",
       "      <td>165000</td>\n",
       "      <td>1</td>\n",
       "      <td>3</td>\n",
       "      <td>1</td>\n",
       "      <td>327000</td>\n",
       "    </tr>\n",
       "    <tr>\n",
       "      <th>1</th>\n",
       "      <td>515 Robinson St,Salisbury,MD,21801</td>\n",
       "      <td>38.395653</td>\n",
       "      <td>-75.602577</td>\n",
       "      <td>Lorem ipsum dolor sit amet, consectetur adipis...</td>\n",
       "      <td>3</td>\n",
       "      <td>77000</td>\n",
       "      <td>2</td>\n",
       "      <td>1</td>\n",
       "      <td>2</td>\n",
       "      <td>515000</td>\n",
       "    </tr>\n",
       "    <tr>\n",
       "      <th>2</th>\n",
       "      <td>515 Sandyhill Dr,Ocean City,MD,21842</td>\n",
       "      <td>38.440619</td>\n",
       "      <td>-75.067073</td>\n",
       "      <td>Lorem ipsum dolor sit amet, consectetur adipis...</td>\n",
       "      <td>2</td>\n",
       "      <td>274000</td>\n",
       "      <td>2</td>\n",
       "      <td>1</td>\n",
       "      <td>2</td>\n",
       "      <td>521000</td>\n",
       "    </tr>\n",
       "    <tr>\n",
       "      <th>3</th>\n",
       "      <td>5155 Sudley Rd,West River,MD,20778</td>\n",
       "      <td>38.825695</td>\n",
       "      <td>-76.582788</td>\n",
       "      <td>Lorem ipsum dolor sit amet, consectetur adipis...</td>\n",
       "      <td>3</td>\n",
       "      <td>43000</td>\n",
       "      <td>2</td>\n",
       "      <td>2</td>\n",
       "      <td>2</td>\n",
       "      <td>505000</td>\n",
       "    </tr>\n",
       "    <tr>\n",
       "      <th>4</th>\n",
       "      <td>516 Park Manor Cir,Bel Air,MD,21014</td>\n",
       "      <td>39.528906</td>\n",
       "      <td>-76.355429</td>\n",
       "      <td>Lorem ipsum dolor sit amet, consectetur adipis...</td>\n",
       "      <td>2</td>\n",
       "      <td>83000</td>\n",
       "      <td>1</td>\n",
       "      <td>2</td>\n",
       "      <td>2</td>\n",
       "      <td>404000</td>\n",
       "    </tr>\n",
       "  </tbody>\n",
       "</table>\n",
       "</div>"
      ],
      "text/plain": [
       "                                address        lat       long  \\\n",
       "0   515 Priscilla St,Salisbury,MD,21804  38.377597 -75.581648   \n",
       "1    515 Robinson St,Salisbury,MD,21801  38.395653 -75.602577   \n",
       "2  515 Sandyhill Dr,Ocean City,MD,21842  38.440619 -75.067073   \n",
       "3    5155 Sudley Rd,West River,MD,20778  38.825695 -76.582788   \n",
       "4   516 Park Manor Cir,Bel Air,MD,21014  39.528906 -76.355429   \n",
       "\n",
       "                                         app_comment  damage  app_estimate  \\\n",
       "0  Lorem ipsum dolor sit amet, consectetur adipis...       0        165000   \n",
       "1  Lorem ipsum dolor sit amet, consectetur adipis...       3         77000   \n",
       "2  Lorem ipsum dolor sit amet, consectetur adipis...       2        274000   \n",
       "3  Lorem ipsum dolor sit amet, consectetur adipis...       3         43000   \n",
       "4  Lorem ipsum dolor sit amet, consectetur adipis...       2         83000   \n",
       "\n",
       "   safe_to_live  utils_on  insured  est_home_value  \n",
       "0             1         3        1          327000  \n",
       "1             2         1        2          515000  \n",
       "2             2         1        2          521000  \n",
       "3             2         2        2          505000  \n",
       "4             1         2        2          404000  "
      ]
     },
     "execution_count": 43,
     "metadata": {},
     "output_type": "execute_result"
    }
   ],
   "source": [
    "# import data\n",
    "df = pd.read_csv('./data/applications.csv')\n",
    "df.head()"
   ]
  },
  {
   "cell_type": "code",
   "execution_count": 44,
   "metadata": {
    "scrolled": false
   },
   "outputs": [
    {
     "data": {
      "application/vnd.jupyter.widget-view+json": {
       "model_id": "4aad9efab99445b2b69e6dcd4a328bc1",
       "version_major": 2,
       "version_minor": 0
      },
      "text/plain": [
       "Figure(layout=FigureLayout(height='420px'))"
      ]
     },
     "metadata": {},
     "output_type": "display_data"
    }
   ],
   "source": [
    "# Plotting the heatmap and color coded location dots\n",
    "\n",
    "# Creating a map with center at average lat and long\n",
    "map_center = ((df['lat'].min()+df['lat'].max())/2,\n",
    "              (df['long'].min()+df['long'].max())/2)\n",
    "\n",
    "# Calculating the appropriate level of zoom based on lat and long\n",
    "zoom= round(df['long'].max()-df['long'].min(), 1)\n",
    "\n",
    "# Creating a map figure\n",
    "fig = gm.figure(center=map_center, zoom_level=zoom, map_type='ROADMAP')\n",
    "\n",
    "# Creating a tuple of markers lat and long\n",
    "markers = []\n",
    "for i in df.index:\n",
    "    markers.append((df.iloc[i,1], df.iloc[i,2]))\n",
    "\n",
    "# Creating the layer for symbols\n",
    "symbol = gm.symbol_layer(markers, \n",
    "                         fill_color=tuple(df['damage'].map({3:'#B22222',  #FireBrick\n",
    "                                                            2:'#FFA500',  #Orange\n",
    "                                                            1:'#FFFF00',  #Yellow\n",
    "                                                            0:'#000000'}).values),\n",
    "                        stroke_color=None,\n",
    "                        stroke_opacity=0.0,\n",
    "                        scale=5,\n",
    "                        info_box_content=df['address'],\n",
    "                        display_info_box=True)\n",
    "\n",
    "# Creating the layer for heatmap\n",
    "heatmap = gm.heatmap_layer(markers, \n",
    "                           weights=df['damage'],\n",
    "                          point_radius=40,\n",
    "                          opacity=0.6)\n",
    "#Add the layers\n",
    "fig.add_layer(heatmap)\n",
    "fig.add_layer(symbol)\n",
    "\n",
    "\n",
    "fig"
   ]
  },
  {
   "cell_type": "markdown",
   "metadata": {},
   "source": [
    "### Splitting the Properties\n",
    "We are going to split the properties into two groups:\n",
    "- Accessible properties AND with no coverage or partial insurance coverage\n",
    "- Inaccessible properties OR those with full insurance coverage\n",
    "\n",
    "The reason for this is to do the prioritization only on the properties that do not have full insurance or are accessible. Once the prioritization is done, other properties will be added to the end of the list. \n",
    "\n",
    "Once inaccessible properties become accessible, the prioritization need to be run again to take those properties into account."
   ]
  },
  {
   "cell_type": "code",
   "execution_count": 45,
   "metadata": {},
   "outputs": [
    {
     "data": {
      "text/plain": [
       "(57, 10)"
      ]
     },
     "execution_count": 45,
     "metadata": {},
     "output_type": "execute_result"
    }
   ],
   "source": [
    "# The subset of properties for prioritization\n",
    "df_prio = df[(df['damage']!=0) & (df['insured']!=0)]\n",
    "df_prio.shape"
   ]
  },
  {
   "cell_type": "code",
   "execution_count": 46,
   "metadata": {},
   "outputs": [
    {
     "data": {
      "text/plain": [
       "(18, 10)"
      ]
     },
     "execution_count": 46,
     "metadata": {},
     "output_type": "execute_result"
    }
   ],
   "source": [
    "# Those that will not be prioritized\n",
    "df_no_prio = df[(df['damage']==0) | (df['insured']==0)]\n",
    "df_no_prio.shape"
   ]
  },
  {
   "cell_type": "markdown",
   "metadata": {},
   "source": [
    "### Calculating Priority Index"
   ]
  },
  {
   "cell_type": "code",
   "execution_count": 47,
   "metadata": {},
   "outputs": [
    {
     "data": {
      "text/html": [
       "<div>\n",
       "<style scoped>\n",
       "    .dataframe tbody tr th:only-of-type {\n",
       "        vertical-align: middle;\n",
       "    }\n",
       "\n",
       "    .dataframe tbody tr th {\n",
       "        vertical-align: top;\n",
       "    }\n",
       "\n",
       "    .dataframe thead th {\n",
       "        text-align: right;\n",
       "    }\n",
       "</style>\n",
       "<table border=\"1\" class=\"dataframe\">\n",
       "  <thead>\n",
       "    <tr style=\"text-align: right;\">\n",
       "      <th></th>\n",
       "      <th>index</th>\n",
       "      <th>address</th>\n",
       "      <th>lat</th>\n",
       "      <th>long</th>\n",
       "      <th>app_comment</th>\n",
       "      <th>damage</th>\n",
       "      <th>app_estimate</th>\n",
       "      <th>safe_to_live</th>\n",
       "      <th>utils_on</th>\n",
       "      <th>insured</th>\n",
       "      <th>est_home_value</th>\n",
       "      <th>priority_index</th>\n",
       "    </tr>\n",
       "  </thead>\n",
       "  <tbody>\n",
       "    <tr>\n",
       "      <th>0</th>\n",
       "      <td>1</td>\n",
       "      <td>515 Robinson St,Salisbury,MD,21801</td>\n",
       "      <td>38.395653</td>\n",
       "      <td>-75.602577</td>\n",
       "      <td>Lorem ipsum dolor sit amet, consectetur adipis...</td>\n",
       "      <td>3</td>\n",
       "      <td>77000</td>\n",
       "      <td>2</td>\n",
       "      <td>1</td>\n",
       "      <td>2</td>\n",
       "      <td>515000</td>\n",
       "      <td>1.794175</td>\n",
       "    </tr>\n",
       "    <tr>\n",
       "      <th>1</th>\n",
       "      <td>2</td>\n",
       "      <td>515 Sandyhill Dr,Ocean City,MD,21842</td>\n",
       "      <td>38.440619</td>\n",
       "      <td>-75.067073</td>\n",
       "      <td>Lorem ipsum dolor sit amet, consectetur adipis...</td>\n",
       "      <td>2</td>\n",
       "      <td>274000</td>\n",
       "      <td>2</td>\n",
       "      <td>1</td>\n",
       "      <td>2</td>\n",
       "      <td>521000</td>\n",
       "      <td>4.207294</td>\n",
       "    </tr>\n",
       "    <tr>\n",
       "      <th>2</th>\n",
       "      <td>3</td>\n",
       "      <td>5155 Sudley Rd,West River,MD,20778</td>\n",
       "      <td>38.825695</td>\n",
       "      <td>-76.582788</td>\n",
       "      <td>Lorem ipsum dolor sit amet, consectetur adipis...</td>\n",
       "      <td>3</td>\n",
       "      <td>43000</td>\n",
       "      <td>2</td>\n",
       "      <td>2</td>\n",
       "      <td>2</td>\n",
       "      <td>505000</td>\n",
       "      <td>2.043564</td>\n",
       "    </tr>\n",
       "    <tr>\n",
       "      <th>3</th>\n",
       "      <td>4</td>\n",
       "      <td>516 Park Manor Cir,Bel Air,MD,21014</td>\n",
       "      <td>39.528906</td>\n",
       "      <td>-76.355429</td>\n",
       "      <td>Lorem ipsum dolor sit amet, consectetur adipis...</td>\n",
       "      <td>2</td>\n",
       "      <td>83000</td>\n",
       "      <td>1</td>\n",
       "      <td>2</td>\n",
       "      <td>2</td>\n",
       "      <td>404000</td>\n",
       "      <td>1.643564</td>\n",
       "    </tr>\n",
       "    <tr>\n",
       "      <th>4</th>\n",
       "      <td>5</td>\n",
       "      <td>517 Oella Ave,Ellicott City,MD,21043</td>\n",
       "      <td>39.274581</td>\n",
       "      <td>-76.784032</td>\n",
       "      <td>Lorem ipsum dolor sit amet, consectetur adipis...</td>\n",
       "      <td>2</td>\n",
       "      <td>279000</td>\n",
       "      <td>1</td>\n",
       "      <td>2</td>\n",
       "      <td>2</td>\n",
       "      <td>480000</td>\n",
       "      <td>4.650000</td>\n",
       "    </tr>\n",
       "  </tbody>\n",
       "</table>\n",
       "</div>"
      ],
      "text/plain": [
       "   index                               address        lat       long  \\\n",
       "0      1    515 Robinson St,Salisbury,MD,21801  38.395653 -75.602577   \n",
       "1      2  515 Sandyhill Dr,Ocean City,MD,21842  38.440619 -75.067073   \n",
       "2      3    5155 Sudley Rd,West River,MD,20778  38.825695 -76.582788   \n",
       "3      4   516 Park Manor Cir,Bel Air,MD,21014  39.528906 -76.355429   \n",
       "4      5  517 Oella Ave,Ellicott City,MD,21043  39.274581 -76.784032   \n",
       "\n",
       "                                         app_comment  damage  app_estimate  \\\n",
       "0  Lorem ipsum dolor sit amet, consectetur adipis...       3         77000   \n",
       "1  Lorem ipsum dolor sit amet, consectetur adipis...       2        274000   \n",
       "2  Lorem ipsum dolor sit amet, consectetur adipis...       3         43000   \n",
       "3  Lorem ipsum dolor sit amet, consectetur adipis...       2         83000   \n",
       "4  Lorem ipsum dolor sit amet, consectetur adipis...       2        279000   \n",
       "\n",
       "   safe_to_live  utils_on  insured  est_home_value  priority_index  \n",
       "0             2         1        2          515000        1.794175  \n",
       "1             2         1        2          521000        4.207294  \n",
       "2             2         2        2          505000        2.043564  \n",
       "3             1         2        2          404000        1.643564  \n",
       "4             1         2        2          480000        4.650000  "
      ]
     },
     "execution_count": 47,
     "metadata": {},
     "output_type": "execute_result"
    }
   ],
   "source": [
    "# Refer to the problem state section for details of priority index caluclation\n",
    "\n",
    "df_prio['priority_index']=(df_prio['damage'])*\\\n",
    "                    (df_prio['safe_to_live'])*\\\n",
    "                    (df_prio['utils_on'])*\\\n",
    "                    (df_prio['insured'])*\\\n",
    "                    (df_prio['app_estimate']/df['est_home_value'])\n",
    "\n",
    "df_no_prio['priority_index'] = 0\n",
    "\n",
    "# reset index for both dataframes\n",
    "df_prio.reset_index(inplace=True)\n",
    "df_no_prio.reset_index(inplace=True)\n",
    "\n",
    "df_prio.head()"
   ]
  },
  {
   "cell_type": "markdown",
   "metadata": {},
   "source": [
    "### Unsupervised Clustering of Addresses"
   ]
  },
  {
   "cell_type": "code",
   "execution_count": 48,
   "metadata": {},
   "outputs": [],
   "source": [
    "from sklearn.cluster import DBSCAN"
   ]
  },
  {
   "cell_type": "code",
   "execution_count": 49,
   "metadata": {},
   "outputs": [],
   "source": [
    "# Getting dimensions of the entire area where all properties are located\n",
    "len_area = round(df_prio['lat'].max()-df_prio['lat'].min(), 1)\n",
    "wid_area = round(df_prio['long'].max()-df_prio['long'].min(),1)\n",
    "dia_area = np.sqrt(len_area**2+wid_area**2)"
   ]
  },
  {
   "cell_type": "code",
   "execution_count": 50,
   "metadata": {},
   "outputs": [],
   "source": [
    "# Instantiate DBSCAN\n",
    "# epsilon is defined based on the area of interest\n",
    "db = DBSCAN(eps=dia_area/30, min_samples=2)"
   ]
  },
  {
   "cell_type": "code",
   "execution_count": 51,
   "metadata": {},
   "outputs": [
    {
     "data": {
      "text/plain": [
       "DBSCAN(algorithm='auto', eps=0.24166091947189144, leaf_size=30,\n",
       "    metric='euclidean', metric_params=None, min_samples=2, n_jobs=None,\n",
       "    p=None)"
      ]
     },
     "execution_count": 51,
     "metadata": {},
     "output_type": "execute_result"
    }
   ],
   "source": [
    "# Fit DBSCAN on data\n",
    "db.fit(df_prio[['lat', 'long']])"
   ]
  },
  {
   "cell_type": "code",
   "execution_count": 52,
   "metadata": {},
   "outputs": [],
   "source": [
    "# Save labels to cluster column\n",
    "df_prio['cluster'] = db.labels_+1 # adding +1 to all clusters so they start from 1 instead of 0\n",
    "                                # Cluster 0 are outliers"
   ]
  },
  {
   "cell_type": "code",
   "execution_count": 53,
   "metadata": {},
   "outputs": [
    {
     "data": {
      "text/plain": [
       "array([1, 0, 2, 3, 4, 5, 6])"
      ]
     },
     "execution_count": 53,
     "metadata": {},
     "output_type": "execute_result"
    }
   ],
   "source": [
    "df_prio['cluster'].unique()"
   ]
  },
  {
   "cell_type": "code",
   "execution_count": 54,
   "metadata": {},
   "outputs": [],
   "source": [
    "# assign numbers to cluster -1 (outliers) \n",
    "count = df_prio['cluster'].unique().max()+1\n",
    "for i in range(len(df_prio)):\n",
    "    if df_prio['cluster'][i]==0:\n",
    "        df_prio.loc[i, 'cluster'] = count\n",
    "        count += 1\n",
    "    else:\n",
    "        pass"
   ]
  },
  {
   "cell_type": "code",
   "execution_count": 55,
   "metadata": {},
   "outputs": [
    {
     "data": {
      "image/png": "[encoded data removed]",
      "text/plain": [
       "<Figure size 432x288 with 1 Axes>"
      ]
     },
     "metadata": {
      "needs_background": "light"
     },
     "output_type": "display_data"
    }
   ],
   "source": [
    "# Plot clusters, color coded for cluster, and size based on priority index\n",
    "# Just for visualizing the location and severity of damages\n",
    "plt.scatter(data=df_prio, \n",
    "            x='long', \n",
    "            y='lat', \n",
    "            c='cluster', \n",
    "            s=df_prio['priority_index']*15,\n",
    "           alpha=0.7);\n",
    "\n",
    "plt.xlabel('longitude')\n",
    "plt.ylabel('latitude')\n",
    "plt.title('Location of Addresses - Colors: Clusters - Size: Priority Index');"
   ]
  },
  {
   "cell_type": "markdown",
   "metadata": {},
   "source": [
    "### Sorting Addresses"
   ]
  },
  {
   "cell_type": "code",
   "execution_count": 56,
   "metadata": {},
   "outputs": [],
   "source": [
    "# Get the order of clusters based on mean of prioritization score\n",
    "cluster_prio = list(df_prio.groupby('cluster').mean()['priority_index'].sort_values(ascending=False).index)\n"
   ]
  },
  {
   "cell_type": "code",
   "execution_count": 57,
   "metadata": {},
   "outputs": [
    {
     "data": {
      "text/plain": [
       "[4, 6, 13, 12, 7, 11, 2, 5, 3, 15, 16, 1, 14, 10, 9, 8]"
      ]
     },
     "execution_count": 57,
     "metadata": {},
     "output_type": "execute_result"
    }
   ],
   "source": [
    "# Showing cluster priority orders\n",
    "cluster_prio"
   ]
  },
  {
   "cell_type": "code",
   "execution_count": 58,
   "metadata": {},
   "outputs": [],
   "source": [
    "# Create the dictionary that defines the order for sorting\n",
    "cluster_prio_indexer = dict(zip(cluster_prio,range(len(cluster_prio))))\n",
    "\n",
    "# Generate a rank column that will be used to sort the dataframe numerically\n",
    "df_prio['cluster_ranked'] = df_prio['cluster'].map(cluster_prio_indexer)"
   ]
  },
  {
   "cell_type": "code",
   "execution_count": 59,
   "metadata": {
    "scrolled": false
   },
   "outputs": [],
   "source": [
    "# Sort the DF based on cluster_ranked (ascending), and then \n",
    "# priority_index (descending)\n",
    "df_prio = df_prio.sort_values(by=['cluster_ranked', 'priority_index'], \n",
    "                    ascending=[True, False])\n",
    "\n"
   ]
  },
  {
   "cell_type": "markdown",
   "metadata": {},
   "source": [
    "### Preparing No-Priority DataFrame for Concatination with Priority DataFrame"
   ]
  },
  {
   "cell_type": "code",
   "execution_count": 60,
   "metadata": {},
   "outputs": [],
   "source": [
    "# Adding columns to math df_prio\n",
    "df_no_prio['priority_index'] = 0\n",
    "df_no_prio['cluster'] = 0\n",
    "df_no_prio['cluster_ranked'] = 0"
   ]
  },
  {
   "cell_type": "code",
   "execution_count": 61,
   "metadata": {},
   "outputs": [],
   "source": [
    "# Creating a new column as the ratio of app_estimate and est_home_value\n",
    "df_no_prio['damage_ratio'] = df_no_prio['app_estimate'] / df_no_prio['est_home_value']"
   ]
  },
  {
   "cell_type": "code",
   "execution_count": 62,
   "metadata": {},
   "outputs": [],
   "source": [
    "# Sorting based on damage_ratio\n",
    "df_no_prio = df_no_prio.sort_values(by='damage_ratio', ascending=False)"
   ]
  },
  {
   "cell_type": "code",
   "execution_count": 63,
   "metadata": {},
   "outputs": [],
   "source": [
    "df_no_prio.drop('damage_ratio', axis=1, inplace=True)"
   ]
  },
  {
   "cell_type": "markdown",
   "metadata": {},
   "source": [
    "### Concatinating the two DataFrames"
   ]
  },
  {
   "cell_type": "code",
   "execution_count": 64,
   "metadata": {},
   "outputs": [],
   "source": [
    "df = pd.concat([df_prio, df_no_prio])"
   ]
  },
  {
   "cell_type": "code",
   "execution_count": 66,
   "metadata": {
    "scrolled": false
   },
   "outputs": [
    {
     "data": {
      "text/html": [
       "<div>\n",
       "<style scoped>\n",
       "    .dataframe tbody tr th:only-of-type {\n",
       "        vertical-align: middle;\n",
       "    }\n",
       "\n",
       "    .dataframe tbody tr th {\n",
       "        vertical-align: top;\n",
       "    }\n",
       "\n",
       "    .dataframe thead th {\n",
       "        text-align: right;\n",
       "    }\n",
       "</style>\n",
       "<table border=\"1\" class=\"dataframe\">\n",
       "  <thead>\n",
       "    <tr style=\"text-align: right;\">\n",
       "      <th></th>\n",
       "      <th>index</th>\n",
       "      <th>address</th>\n",
       "      <th>lat</th>\n",
       "      <th>long</th>\n",
       "      <th>app_comment</th>\n",
       "      <th>damage</th>\n",
       "      <th>app_estimate</th>\n",
       "      <th>safe_to_live</th>\n",
       "      <th>utils_on</th>\n",
       "      <th>insured</th>\n",
       "      <th>est_home_value</th>\n",
       "      <th>priority_index</th>\n",
       "      <th>cluster</th>\n",
       "      <th>cluster_ranked</th>\n",
       "    </tr>\n",
       "  </thead>\n",
       "  <tbody>\n",
       "    <tr>\n",
       "      <th>32</th>\n",
       "      <td>43</td>\n",
       "      <td>2 Willow Ln,Stafford,MD,22554</td>\n",
       "      <td>38.423219</td>\n",
       "      <td>-77.416092</td>\n",
       "      <td>Lorem ipsum dolor sit amet, consectetur adipis...</td>\n",
       "      <td>2</td>\n",
       "      <td>279000</td>\n",
       "      <td>2</td>\n",
       "      <td>3</td>\n",
       "      <td>2</td>\n",
       "      <td>318000</td>\n",
       "      <td>21.056604</td>\n",
       "      <td>4</td>\n",
       "      <td>0</td>\n",
       "    </tr>\n",
       "    <tr>\n",
       "      <th>39</th>\n",
       "      <td>52</td>\n",
       "      <td>25 King Georges Grant,Fredericksburg,MD,22405</td>\n",
       "      <td>38.328619</td>\n",
       "      <td>-77.408354</td>\n",
       "      <td>Lorem ipsum dolor sit amet, consectetur adipis...</td>\n",
       "      <td>1</td>\n",
       "      <td>264000</td>\n",
       "      <td>1</td>\n",
       "      <td>2</td>\n",
       "      <td>2</td>\n",
       "      <td>436000</td>\n",
       "      <td>2.422018</td>\n",
       "      <td>4</td>\n",
       "      <td>0</td>\n",
       "    </tr>\n",
       "    <tr>\n",
       "      <th>41</th>\n",
       "      <td>55</td>\n",
       "      <td>25 Lexington Ave,Pulaski,MD,24301</td>\n",
       "      <td>37.044942</td>\n",
       "      <td>-80.778614</td>\n",
       "      <td>Lorem ipsum dolor sit amet, consectetur adipis...</td>\n",
       "      <td>2</td>\n",
       "      <td>277000</td>\n",
       "      <td>1</td>\n",
       "      <td>3</td>\n",
       "      <td>2</td>\n",
       "      <td>307000</td>\n",
       "      <td>10.827362</td>\n",
       "      <td>6</td>\n",
       "      <td>1</td>\n",
       "    </tr>\n",
       "    <tr>\n",
       "      <th>37</th>\n",
       "      <td>50</td>\n",
       "      <td>25 Golden Acres Ln,Bland,MD,24315</td>\n",
       "      <td>37.148221</td>\n",
       "      <td>-80.958985</td>\n",
       "      <td>Lorem ipsum dolor sit amet, consectetur adipis...</td>\n",
       "      <td>2</td>\n",
       "      <td>65000</td>\n",
       "      <td>2</td>\n",
       "      <td>2</td>\n",
       "      <td>2</td>\n",
       "      <td>420000</td>\n",
       "      <td>2.476190</td>\n",
       "      <td>6</td>\n",
       "      <td>1</td>\n",
       "    </tr>\n",
       "    <tr>\n",
       "      <th>29</th>\n",
       "      <td>39</td>\n",
       "      <td>4027 Baptist Valley Rd,Cedar Bluff,MD,24609</td>\n",
       "      <td>37.126434</td>\n",
       "      <td>-81.629221</td>\n",
       "      <td>Lorem ipsum dolor sit amet, consectetur adipis...</td>\n",
       "      <td>3</td>\n",
       "      <td>176000</td>\n",
       "      <td>2</td>\n",
       "      <td>3</td>\n",
       "      <td>1</td>\n",
       "      <td>484000</td>\n",
       "      <td>6.545455</td>\n",
       "      <td>13</td>\n",
       "      <td>2</td>\n",
       "    </tr>\n",
       "  </tbody>\n",
       "</table>\n",
       "</div>"
      ],
      "text/plain": [
       "    index                                        address        lat  \\\n",
       "32     43                  2 Willow Ln,Stafford,MD,22554  38.423219   \n",
       "39     52  25 King Georges Grant,Fredericksburg,MD,22405  38.328619   \n",
       "41     55              25 Lexington Ave,Pulaski,MD,24301  37.044942   \n",
       "37     50              25 Golden Acres Ln,Bland,MD,24315  37.148221   \n",
       "29     39    4027 Baptist Valley Rd,Cedar Bluff,MD,24609  37.126434   \n",
       "\n",
       "         long                                        app_comment  damage  \\\n",
       "32 -77.416092  Lorem ipsum dolor sit amet, consectetur adipis...       2   \n",
       "39 -77.408354  Lorem ipsum dolor sit amet, consectetur adipis...       1   \n",
       "41 -80.778614  Lorem ipsum dolor sit amet, consectetur adipis...       2   \n",
       "37 -80.958985  Lorem ipsum dolor sit amet, consectetur adipis...       2   \n",
       "29 -81.629221  Lorem ipsum dolor sit amet, consectetur adipis...       3   \n",
       "\n",
       "    app_estimate  safe_to_live  utils_on  insured  est_home_value  \\\n",
       "32        279000             2         3        2          318000   \n",
       "39        264000             1         2        2          436000   \n",
       "41        277000             1         3        2          307000   \n",
       "37         65000             2         2        2          420000   \n",
       "29        176000             2         3        1          484000   \n",
       "\n",
       "    priority_index  cluster  cluster_ranked  \n",
       "32       21.056604        4               0  \n",
       "39        2.422018        4               0  \n",
       "41       10.827362        6               1  \n",
       "37        2.476190        6               1  \n",
       "29        6.545455       13               2  "
      ]
     },
     "execution_count": 66,
     "metadata": {},
     "output_type": "execute_result"
    }
   ],
   "source": [
    "df.head()"
   ]
  },
  {
   "cell_type": "code",
   "execution_count": 170,
   "metadata": {},
   "outputs": [],
   "source": [
    "df.drop(columns=['index','cluster', 'cluster_ranked']).to_csv('./data/apps_sorted.csv',\n",
    "                                                                             index=False)\n"
   ]
  },
  {
   "cell_type": "code",
   "execution_count": null,
   "metadata": {},
   "outputs": [],
   "source": []
  }
 ],
 "metadata": {
  "kernelspec": {
   "display_name": "Python 3",
   "language": "python",
   "name": "python3"
  },
  "language_info": {
   "codemirror_mode": {
    "name": "ipython",
    "version": 3
   },
   "file_extension": ".py",
   "mimetype": "text/x-python",
   "name": "python",
   "nbconvert_exporter": "python",
   "pygments_lexer": "ipython3",
   "version": "3.7.3"
  }
 },
 "nbformat": 4,
 "nbformat_minor": 2
}
