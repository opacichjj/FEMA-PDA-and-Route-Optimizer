{
 "cells": [
  {
   "cell_type": "markdown",
   "metadata": {},
   "source": [
    "## Site Visit Route Optimizer (SiViRO)\n",
    "## Solution #2: Google Maps Directions Route Optimizer\n",
    "\n",
    "### DSI-8    August 2019\n",
    "\n",
    "### Team: Sade Ekulona, Nick Minaie, Jeremy Opacich, Andrew Picart "
   ]
  },
  {
   "cell_type": "markdown",
   "metadata": {},
   "source": [
    "In this notebook, we will utilize Google Map's directions to optimize the route between the origin, the destination, and the intermediate stops (or waypoints, the properties to be visited).\n",
    "\n",
    "Documentation for the Google Maps API can be found here ([Google Maps Directions](https://developers.google.com/maps/documentation/directions/start)).\n",
    "\n",
    "The documentation explains that the directions feature can also optimize the waypoints, which are the property stops.\n",
    "\n",
    "\n",
    "\n",
    "`gmaps.directions(origin,\n",
    "                 destination, \n",
    "                 mode='driving',\n",
    "                waypoints,\n",
    "                optimize_waypoints=True)`\n",
    "\n",
    "In this case, waypoints will be a list of intermediate stops. If `optimize_waypoints` is set to `True`, then Google Maps will re-order waypoints to optimize the route based on driving duration (or time). The optimizer uses **Traveling Salesman Problem** to arrive at the most optimum solution. \n",
    "\n",
    "The API returns a JSON response, that includes the order of the waypoints in the optimized solution. \n",
    "\n",
    "\n",
    "**NOTE:** In our other notebook (***SiViRO_Site_Visit_Route_Optimizer_TSP.ipynb***), we go over our own algorithm, which is based on the concept of **TSP** and **Genetic Algorithm** as well as **Unsupervised Learning** (Clustering) to arrive at an optimized solution for this problem."
   ]
  },
  {
   "cell_type": "code",
   "execution_count": 1,
   "metadata": {},
   "outputs": [],
   "source": [
    "#Imports\n",
    "import googlemaps\n",
    "from datetime import datetime\n",
    "import pandas as pd\n",
    "import matplotlib.pyplot as plt\n",
    "import gmaps as gm"
   ]
  },
  {
   "cell_type": "code",
   "execution_count": 2,
   "metadata": {},
   "outputs": [],
   "source": [
    "# Reading API key\n",
    "with open('/Users/nick/dsi/google_api.txt') as f:\n",
    "    api_key = f.readline()[:-1]\n",
    "    f.close"
   ]
  },
  {
   "cell_type": "code",
   "execution_count": 3,
   "metadata": {},
   "outputs": [],
   "source": [
    "# Instantiate a gmaps engine\n",
    "gmaps = googlemaps.Client(key=api_key)"
   ]
  },
  {
   "cell_type": "code",
   "execution_count": 4,
   "metadata": {},
   "outputs": [
    {
     "name": "stdout",
     "output_type": "stream",
     "text": [
      "Please enter origin's address: 1938 4th St NW, Washington DC\n"
     ]
    }
   ],
   "source": [
    "# Getting the Origin\n",
    "origin = input('Please enter origin\\'s address: ')"
   ]
  },
  {
   "cell_type": "code",
   "execution_count": 5,
   "metadata": {},
   "outputs": [],
   "source": [
    "# These are random addresses. These will be obtained from the list of applications\n",
    "# Or from the prioritized list of applications\n",
    "\n",
    "addresses = [\n",
    "    origin,       # Adding origin at the beginning\n",
    "    '822 Mason Ave, Deale, MD',\n",
    "    '6347 Genoa Rd, Tracys Landing, MD',\n",
    "    '719 Walnut Ave, North Beach, MD',\n",
    "    '8326 Bayside Rd, Chesapeake Beach, MD',\n",
    "    '8630 Fort Foote Rd, Fort Washington, MD',\n",
    "    '11400 Riverview Rd, Fort Washington, MD',\n",
    "    '3808 Dunlap St, Temple Hills, MD',\n",
    "    '1202 I St, Alexandria, VA 22307',\n",
    "    '4908 King Patrick Way, Upper Marlboro, MD',\n",
    "    '4002 Fox Gate Ln, Upper Marlboro, MD',\n",
    "    '5819 Whipoorwill Dr, Deale, MD'\n",
    "]"
   ]
  },
  {
   "cell_type": "code",
   "execution_count": 6,
   "metadata": {},
   "outputs": [
    {
     "name": "stdout",
     "output_type": "stream",
     "text": [
      "Do you want to come back to the orign (round trip)? (y/n) n\n"
     ]
    }
   ],
   "source": [
    "# Making it a round trip?\n",
    "round_trip=''\n",
    "while round_trip not in ['y','n']:\n",
    "    round_trip = input('Do you want to come back to the orign (round trip)? (y/n) ')"
   ]
  },
  {
   "cell_type": "code",
   "execution_count": 7,
   "metadata": {},
   "outputs": [
    {
     "name": "stdout",
     "output_type": "stream",
     "text": [
      "Do you want the final destination to be the last property? (y/n)n\n",
      "Enter the final destination's address: 8421 Broad St, McLean, VA\n"
     ]
    }
   ],
   "source": [
    "# If round_trip='y' then add origin at the end of addresses\n",
    "# otherwise, pass, which means the last stop will be the last address\n",
    "if round_trip == 'y':\n",
    "    addresses.append(origin)\n",
    "else:\n",
    "    destination = input('Enter the final destination\\'s address: ')\n",
    "    addresses.append(destination)"
   ]
  },
  {
   "cell_type": "code",
   "execution_count": 8,
   "metadata": {},
   "outputs": [],
   "source": [
    "# A fuction that returns the lat and long of an address (geocodes)\n",
    "def address_geocode(address):\n",
    "    \n",
    "    # Geocoding an address\n",
    "    geocode = gmaps.geocode(address)\n",
    "    \n",
    "    # Get latitude\n",
    "    lat = geocode[0]['geometry']['location']['lat']\n",
    "\n",
    "    # Get longitude\n",
    "    long = geocode[0]['geometry']['location']['lng']\n",
    "    \n",
    "    return lat, long"
   ]
  },
  {
   "cell_type": "code",
   "execution_count": 9,
   "metadata": {},
   "outputs": [],
   "source": [
    "# Get lat/long for all addresses in the dataframe\n",
    "lats = []\n",
    "longs = []\n",
    "\n",
    "for add in addresses:\n",
    "    lat, long = address_geocode(add)\n",
    "    lats.append(lat)\n",
    "    longs.append(long)"
   ]
  },
  {
   "cell_type": "code",
   "execution_count": 10,
   "metadata": {},
   "outputs": [],
   "source": [
    "# Create a dataframe for all addresses\n",
    "\n",
    "props = pd.DataFrame()\n",
    "props['id'] = range(0,len(addresses))\n",
    "props['address']=addresses\n",
    "props['lat']=lats\n",
    "props['long']=longs"
   ]
  },
  {
   "cell_type": "code",
   "execution_count": 11,
   "metadata": {},
   "outputs": [
    {
     "data": {
      "text/html": [
       "<div>\n",
       "<style scoped>\n",
       "    .dataframe tbody tr th:only-of-type {\n",
       "        vertical-align: middle;\n",
       "    }\n",
       "\n",
       "    .dataframe tbody tr th {\n",
       "        vertical-align: top;\n",
       "    }\n",
       "\n",
       "    .dataframe thead th {\n",
       "        text-align: right;\n",
       "    }\n",
       "</style>\n",
       "<table border=\"1\" class=\"dataframe\">\n",
       "  <thead>\n",
       "    <tr style=\"text-align: right;\">\n",
       "      <th></th>\n",
       "      <th>id</th>\n",
       "      <th>address</th>\n",
       "      <th>lat</th>\n",
       "      <th>long</th>\n",
       "    </tr>\n",
       "  </thead>\n",
       "  <tbody>\n",
       "    <tr>\n",
       "      <th>0</th>\n",
       "      <td>0</td>\n",
       "      <td>1938 4th St NW, Washington DC</td>\n",
       "      <td>38.917248</td>\n",
       "      <td>-77.017729</td>\n",
       "    </tr>\n",
       "    <tr>\n",
       "      <th>1</th>\n",
       "      <td>1</td>\n",
       "      <td>822 Mason Ave, Deale, MD</td>\n",
       "      <td>38.776006</td>\n",
       "      <td>-76.547780</td>\n",
       "    </tr>\n",
       "    <tr>\n",
       "      <th>2</th>\n",
       "      <td>2</td>\n",
       "      <td>6347 Genoa Rd, Tracys Landing, MD</td>\n",
       "      <td>38.759275</td>\n",
       "      <td>-76.559654</td>\n",
       "    </tr>\n",
       "    <tr>\n",
       "      <th>3</th>\n",
       "      <td>3</td>\n",
       "      <td>719 Walnut Ave, North Beach, MD</td>\n",
       "      <td>38.726916</td>\n",
       "      <td>-76.532944</td>\n",
       "    </tr>\n",
       "    <tr>\n",
       "      <th>4</th>\n",
       "      <td>4</td>\n",
       "      <td>8326 Bayside Rd, Chesapeake Beach, MD</td>\n",
       "      <td>38.697027</td>\n",
       "      <td>-76.534217</td>\n",
       "    </tr>\n",
       "    <tr>\n",
       "      <th>5</th>\n",
       "      <td>5</td>\n",
       "      <td>8630 Fort Foote Rd, Fort Washington, MD</td>\n",
       "      <td>38.770520</td>\n",
       "      <td>-77.019005</td>\n",
       "    </tr>\n",
       "    <tr>\n",
       "      <th>6</th>\n",
       "      <td>6</td>\n",
       "      <td>11400 Riverview Rd, Fort Washington, MD</td>\n",
       "      <td>38.732549</td>\n",
       "      <td>-77.024174</td>\n",
       "    </tr>\n",
       "    <tr>\n",
       "      <th>7</th>\n",
       "      <td>7</td>\n",
       "      <td>3808 Dunlap St, Temple Hills, MD</td>\n",
       "      <td>38.837668</td>\n",
       "      <td>-76.962168</td>\n",
       "    </tr>\n",
       "    <tr>\n",
       "      <th>8</th>\n",
       "      <td>8</td>\n",
       "      <td>1202 I St, Alexandria, VA 22307</td>\n",
       "      <td>38.776593</td>\n",
       "      <td>-77.052826</td>\n",
       "    </tr>\n",
       "    <tr>\n",
       "      <th>9</th>\n",
       "      <td>9</td>\n",
       "      <td>4908 King Patrick Way, Upper Marlboro, MD</td>\n",
       "      <td>38.825238</td>\n",
       "      <td>-76.767860</td>\n",
       "    </tr>\n",
       "    <tr>\n",
       "      <th>10</th>\n",
       "      <td>10</td>\n",
       "      <td>4002 Fox Gate Ln, Upper Marlboro, MD</td>\n",
       "      <td>38.834383</td>\n",
       "      <td>-76.782296</td>\n",
       "    </tr>\n",
       "    <tr>\n",
       "      <th>11</th>\n",
       "      <td>11</td>\n",
       "      <td>5819 Whipoorwill Dr, Deale, MD</td>\n",
       "      <td>38.788432</td>\n",
       "      <td>-76.551225</td>\n",
       "    </tr>\n",
       "    <tr>\n",
       "      <th>12</th>\n",
       "      <td>12</td>\n",
       "      <td>8421 Broad St, McLean, VA</td>\n",
       "      <td>38.927627</td>\n",
       "      <td>-77.238090</td>\n",
       "    </tr>\n",
       "  </tbody>\n",
       "</table>\n",
       "</div>"
      ],
      "text/plain": [
       "    id                                    address        lat       long\n",
       "0    0              1938 4th St NW, Washington DC  38.917248 -77.017729\n",
       "1    1                   822 Mason Ave, Deale, MD  38.776006 -76.547780\n",
       "2    2          6347 Genoa Rd, Tracys Landing, MD  38.759275 -76.559654\n",
       "3    3            719 Walnut Ave, North Beach, MD  38.726916 -76.532944\n",
       "4    4      8326 Bayside Rd, Chesapeake Beach, MD  38.697027 -76.534217\n",
       "5    5    8630 Fort Foote Rd, Fort Washington, MD  38.770520 -77.019005\n",
       "6    6    11400 Riverview Rd, Fort Washington, MD  38.732549 -77.024174\n",
       "7    7           3808 Dunlap St, Temple Hills, MD  38.837668 -76.962168\n",
       "8    8            1202 I St, Alexandria, VA 22307  38.776593 -77.052826\n",
       "9    9  4908 King Patrick Way, Upper Marlboro, MD  38.825238 -76.767860\n",
       "10  10       4002 Fox Gate Ln, Upper Marlboro, MD  38.834383 -76.782296\n",
       "11  11             5819 Whipoorwill Dr, Deale, MD  38.788432 -76.551225\n",
       "12  12                  8421 Broad St, McLean, VA  38.927627 -77.238090"
      ]
     },
     "execution_count": 11,
     "metadata": {},
     "output_type": "execute_result"
    }
   ],
   "source": [
    "props"
   ]
  },
  {
   "cell_type": "code",
   "execution_count": 12,
   "metadata": {},
   "outputs": [],
   "source": [
    "# Create list of stops including tuples of lat and long for each prop\n",
    "stop_list = []\n",
    "\n",
    "for i in props.index:\n",
    "    stop_list.append((props.loc[i,'lat'],\n",
    "                     props.loc[i,'long']))"
   ]
  },
  {
   "cell_type": "code",
   "execution_count": 13,
   "metadata": {},
   "outputs": [
    {
     "data": {
      "text/plain": [
       "[(38.9172484, -77.0177294),\n",
       " (38.776006, -76.54778),\n",
       " (38.759275, -76.559654),\n",
       " (38.7269161, -76.5329438),\n",
       " (38.6970274, -76.5342167),\n",
       " (38.77052, -77.01900499999999),\n",
       " (38.7325488, -77.02417369999999),\n",
       " (38.8376682, -76.9621682),\n",
       " (38.7765932, -77.052826),\n",
       " (38.825238, -76.76786),\n",
       " (38.8343832, -76.7822963),\n",
       " (38.7884315, -76.5512246),\n",
       " (38.927627, -77.23809039999999)]"
      ]
     },
     "execution_count": 13,
     "metadata": {},
     "output_type": "execute_result"
    }
   ],
   "source": [
    "# Check the list of stops\n",
    "stop_list"
   ]
  },
  {
   "cell_type": "code",
   "execution_count": 25,
   "metadata": {},
   "outputs": [],
   "source": [
    "# Optimization using Directions API\n",
    "route = gmaps.directions(origin=props['address'][0], \n",
    "                 destination=props['address'][len(props)-1], \n",
    "                 mode='driving',\n",
    "                waypoints=list(props['address'][1:-1]),\n",
    "                optimize_waypoints=True)   # Optimize way points"
   ]
  },
  {
   "cell_type": "code",
   "execution_count": 26,
   "metadata": {},
   "outputs": [],
   "source": [
    "# Extracting way_point order from the JSON response\n",
    "opt_route = route[0]['waypoint_order']"
   ]
  },
  {
   "cell_type": "code",
   "execution_count": 27,
   "metadata": {},
   "outputs": [],
   "source": [
    "# Way_point order is the order of waypoints only, and does not account for \n",
    "# the origin and destimation. We need to add 1 to all items, and also add '0' at the beginnin\n",
    "# and add the last address at the end.\n",
    "\n",
    "# Add +1 to all items to account for the origin\n",
    "opt_route = [i+1 for i in opt_route]\n",
    "\n",
    "# Add origin at the beginning and final address at the end\n",
    "opt_route = [0]+opt_route+[len(props)-1]"
   ]
  },
  {
   "cell_type": "code",
   "execution_count": 28,
   "metadata": {},
   "outputs": [],
   "source": [
    "# Loading the gmap jupyter notebook extension with the API key\n",
    "gm.configure(api_key=api_key)"
   ]
  },
  {
   "cell_type": "code",
   "execution_count": 81,
   "metadata": {},
   "outputs": [
    {
     "data": {
      "image/png": "[encoded data removed]",
      "text/plain": [
       "<Figure size 720x432 with 1 Axes>"
      ]
     },
     "metadata": {
      "needs_background": "light"
     },
     "output_type": "display_data"
    }
   ],
   "source": [
    "# plotting the optimized route along with clusters to see if the route is \n",
    "# aligned with the nieghborhood clusters\n",
    "\n",
    "plt.figure(figsize=(10,6))\n",
    "plt.scatter(props['long'], props['lat'], c='green')\n",
    "\n",
    "# Setting plot limits as a function of property addresses\n",
    "plt.xlim(min(props['long'])-0.05,max(props['long'])+0.05)\n",
    "plt.ylim(min(props['lat'])-0.05,max(props['lat'])+0.05)\n",
    "\n",
    "# Adding the title for the plot\n",
    "plt.title(f'Schematic Visualization of the Optimization Based on Google Maps Direction\\nOptimized Route {opt_route}',\n",
    "         size=16)\n",
    "plt.xlabel('Longitude', size=14)\n",
    "plt.ylabel('Latitude', size=14)\n",
    "\n",
    "# Adding arrows between the points\n",
    "for i in range(len(opt_route)-1):\n",
    "    plt.annotate(\"\",\n",
    "                xy=(props['long'][opt_route[i+1]],props['lat'][opt_route[i+1]]), \n",
    "                 xycoords='data',\n",
    "                xytext=(props['long'][opt_route[i]], props['lat'][opt_route[i]]), \n",
    "                 textcoords='data',\n",
    "                arrowprops=dict(arrowstyle=\"fancy\", #linestyle=\"dashed\",\n",
    "                                color=\"0.7\",\n",
    "                                shrinkA=5, shrinkB=5,\n",
    "                                patchA=None,\n",
    "                                patchB=None,\n",
    "                                connectionstyle=\"arc3,rad=0.3\",\n",
    "                                ),\n",
    "                )\n",
    "\n",
    "# Adding labels to points\n",
    "for index in props.index:\n",
    "    plt.annotate(f'{index}', # this is the text\n",
    "                 (props.iloc[index,3],props.iloc[index,2]), # this is the point to label\n",
    "                 textcoords=\"offset points\", # how to position the text\n",
    "                 xytext=(-10,0), # distance from text to points (x,y)\n",
    "                 ha='center',  # horizontal alignment can be left, right or center\n",
    "                size=14,\n",
    "                c='r') \n",
    "    \n",
    "# Adding the origin address to the plot\n",
    "plt.annotate(props['address'][opt_route[0]],\n",
    "                   xy=(props['long'][opt_route[0]], props['lat'][opt_route[0]]),\n",
    "            c='blue',\n",
    "            size=10)\n",
    "\n",
    "# Adding the final destination address to the plot\n",
    "plt.annotate(props['address'][opt_route[-1]],\n",
    "                   xy=(props['long'][opt_route[-1]], props['lat'][opt_route[-1]]),\n",
    "            c='blue',\n",
    "            size=10)\n",
    "\n",
    "plt.show();"
   ]
  },
  {
   "cell_type": "code",
   "execution_count": 19,
   "metadata": {},
   "outputs": [
    {
     "data": {
      "application/vnd.jupyter.widget-view+json": {
       "model_id": "a78b0f3e90b5402d94027ce4afdc7fcc",
       "version_major": 2,
       "version_minor": 0
      },
      "text/plain": [
       "Figure(layout=FigureLayout(height='420px'))"
      ]
     },
     "metadata": {},
     "output_type": "display_data"
    }
   ],
   "source": [
    "# Creating a map, with the center as the mean of lat and long of all properties\n",
    "map_center = (props['lat'].mean(), props['long'].mean())\n",
    "\n",
    "# Defining the figure, to add layers\n",
    "fig = gm.figure(center=map_center, zoom_level=10)\n",
    "\n",
    "# Defining the way_points (or intermediate stops) based on the optimzied route \n",
    "# from the optimization algorithm\n",
    "# This will be the input to direction layer\n",
    "way_points=[]\n",
    "for stop in opt_route:\n",
    "    way_points.append(stop_list[stop])\n",
    "    \n",
    "#create the direction and markers layer\n",
    "layer = gm.directions.Directions(start=stop_list[opt_route[0]],  \n",
    "                                    end=stop_list[opt_route[-1]],\n",
    "                                   waypoints=way_points,\n",
    "                                   stroke_color='blue',\n",
    "                                    stroke_opacity=0.7, \n",
    "                                    stroke_weight=4.0)\n",
    "\n",
    "#Add the directions layer to the map\n",
    "fig.add_layer(layer)\n",
    "\n",
    "# Show the map\n",
    "fig"
   ]
  },
  {
   "cell_type": "code",
   "execution_count": 20,
   "metadata": {},
   "outputs": [
    {
     "data": {
      "text/plain": [
       "[0, 7, 11, 1, 2, 3, 4, 9, 10, 5, 6, 8, 12]"
      ]
     },
     "execution_count": 20,
     "metadata": {},
     "output_type": "execute_result"
    }
   ],
   "source": [
    "# Looking at the optimized route\n",
    "opt_route"
   ]
  },
  {
   "cell_type": "code",
   "execution_count": 21,
   "metadata": {},
   "outputs": [
    {
     "data": {
      "text/html": [
       "<div>\n",
       "<style scoped>\n",
       "    .dataframe tbody tr th:only-of-type {\n",
       "        vertical-align: middle;\n",
       "    }\n",
       "\n",
       "    .dataframe tbody tr th {\n",
       "        vertical-align: top;\n",
       "    }\n",
       "\n",
       "    .dataframe thead th {\n",
       "        text-align: right;\n",
       "    }\n",
       "</style>\n",
       "<table border=\"1\" class=\"dataframe\">\n",
       "  <thead>\n",
       "    <tr style=\"text-align: right;\">\n",
       "      <th></th>\n",
       "      <th>id</th>\n",
       "      <th>address</th>\n",
       "      <th>lat</th>\n",
       "      <th>long</th>\n",
       "    </tr>\n",
       "  </thead>\n",
       "  <tbody>\n",
       "    <tr>\n",
       "      <th>0</th>\n",
       "      <td>0</td>\n",
       "      <td>1938 4th St NW, Washington DC</td>\n",
       "      <td>38.917248</td>\n",
       "      <td>-77.017729</td>\n",
       "    </tr>\n",
       "    <tr>\n",
       "      <th>7</th>\n",
       "      <td>7</td>\n",
       "      <td>3808 Dunlap St, Temple Hills, MD</td>\n",
       "      <td>38.837668</td>\n",
       "      <td>-76.962168</td>\n",
       "    </tr>\n",
       "    <tr>\n",
       "      <th>11</th>\n",
       "      <td>11</td>\n",
       "      <td>5819 Whipoorwill Dr, Deale, MD</td>\n",
       "      <td>38.788432</td>\n",
       "      <td>-76.551225</td>\n",
       "    </tr>\n",
       "    <tr>\n",
       "      <th>1</th>\n",
       "      <td>1</td>\n",
       "      <td>822 Mason Ave, Deale, MD</td>\n",
       "      <td>38.776006</td>\n",
       "      <td>-76.547780</td>\n",
       "    </tr>\n",
       "    <tr>\n",
       "      <th>2</th>\n",
       "      <td>2</td>\n",
       "      <td>6347 Genoa Rd, Tracys Landing, MD</td>\n",
       "      <td>38.759275</td>\n",
       "      <td>-76.559654</td>\n",
       "    </tr>\n",
       "    <tr>\n",
       "      <th>3</th>\n",
       "      <td>3</td>\n",
       "      <td>719 Walnut Ave, North Beach, MD</td>\n",
       "      <td>38.726916</td>\n",
       "      <td>-76.532944</td>\n",
       "    </tr>\n",
       "    <tr>\n",
       "      <th>4</th>\n",
       "      <td>4</td>\n",
       "      <td>8326 Bayside Rd, Chesapeake Beach, MD</td>\n",
       "      <td>38.697027</td>\n",
       "      <td>-76.534217</td>\n",
       "    </tr>\n",
       "    <tr>\n",
       "      <th>9</th>\n",
       "      <td>9</td>\n",
       "      <td>4908 King Patrick Way, Upper Marlboro, MD</td>\n",
       "      <td>38.825238</td>\n",
       "      <td>-76.767860</td>\n",
       "    </tr>\n",
       "    <tr>\n",
       "      <th>10</th>\n",
       "      <td>10</td>\n",
       "      <td>4002 Fox Gate Ln, Upper Marlboro, MD</td>\n",
       "      <td>38.834383</td>\n",
       "      <td>-76.782296</td>\n",
       "    </tr>\n",
       "    <tr>\n",
       "      <th>5</th>\n",
       "      <td>5</td>\n",
       "      <td>8630 Fort Foote Rd, Fort Washington, MD</td>\n",
       "      <td>38.770520</td>\n",
       "      <td>-77.019005</td>\n",
       "    </tr>\n",
       "    <tr>\n",
       "      <th>6</th>\n",
       "      <td>6</td>\n",
       "      <td>11400 Riverview Rd, Fort Washington, MD</td>\n",
       "      <td>38.732549</td>\n",
       "      <td>-77.024174</td>\n",
       "    </tr>\n",
       "    <tr>\n",
       "      <th>8</th>\n",
       "      <td>8</td>\n",
       "      <td>1202 I St, Alexandria, VA 22307</td>\n",
       "      <td>38.776593</td>\n",
       "      <td>-77.052826</td>\n",
       "    </tr>\n",
       "    <tr>\n",
       "      <th>12</th>\n",
       "      <td>12</td>\n",
       "      <td>8421 Broad St, McLean, VA</td>\n",
       "      <td>38.927627</td>\n",
       "      <td>-77.238090</td>\n",
       "    </tr>\n",
       "  </tbody>\n",
       "</table>\n",
       "</div>"
      ],
      "text/plain": [
       "    id                                    address        lat       long\n",
       "0    0              1938 4th St NW, Washington DC  38.917248 -77.017729\n",
       "7    7           3808 Dunlap St, Temple Hills, MD  38.837668 -76.962168\n",
       "11  11             5819 Whipoorwill Dr, Deale, MD  38.788432 -76.551225\n",
       "1    1                   822 Mason Ave, Deale, MD  38.776006 -76.547780\n",
       "2    2          6347 Genoa Rd, Tracys Landing, MD  38.759275 -76.559654\n",
       "3    3            719 Walnut Ave, North Beach, MD  38.726916 -76.532944\n",
       "4    4      8326 Bayside Rd, Chesapeake Beach, MD  38.697027 -76.534217\n",
       "9    9  4908 King Patrick Way, Upper Marlboro, MD  38.825238 -76.767860\n",
       "10  10       4002 Fox Gate Ln, Upper Marlboro, MD  38.834383 -76.782296\n",
       "5    5    8630 Fort Foote Rd, Fort Washington, MD  38.770520 -77.019005\n",
       "6    6    11400 Riverview Rd, Fort Washington, MD  38.732549 -77.024174\n",
       "8    8            1202 I St, Alexandria, VA 22307  38.776593 -77.052826\n",
       "12  12                  8421 Broad St, McLean, VA  38.927627 -77.238090"
      ]
     },
     "execution_count": 21,
     "metadata": {},
     "output_type": "execute_result"
    }
   ],
   "source": [
    "# Create a dataframe based on the order of optimum route\n",
    "\n",
    "opt_route_df = props.copy().reindex(opt_route)\n",
    "\n",
    "opt_route_df"
   ]
  },
  {
   "cell_type": "code",
   "execution_count": 86,
   "metadata": {},
   "outputs": [],
   "source": [
    "# Defining a fuction that returns value of driving duration from add_1 to add_2\n",
    "def get_distance(add_1, add_2):\n",
    "    # Get distance\n",
    "    distance_dict = gmaps.distance_matrix(add_1, add_2, mode ='driving')\n",
    "    \n",
    "    # Getting the value of duration, seconds\n",
    "    distance_value = distance_dict['rows'][0]['elements'][0]['duration']['value']\n",
    "    \n",
    "    return distance_value"
   ]
  },
  {
   "cell_type": "code",
   "execution_count": 87,
   "metadata": {},
   "outputs": [
    {
     "name": "stdout",
     "output_type": "stream",
     "text": [
      "If you want to enter an avergae time per site visit, enter in mins.\n",
      "Otherwise, just press enter:  \n"
     ]
    }
   ],
   "source": [
    "# Asking if the user wants to add an average site visit time.\n",
    "# If a number is entered, the average time will be added to each property visit\n",
    "# If no number is entered, the avergae time will be set to zero\n",
    "\n",
    "try:\n",
    "    avg_site_visit = int(input('If you want to enter an avergae time per site visit, enter in mins.\\nOtherwise, just press enter:  '))\n",
    "except:\n",
    "    avg_site_visit = 0"
   ]
  },
  {
   "cell_type": "code",
   "execution_count": 88,
   "metadata": {},
   "outputs": [
    {
     "name": "stdout",
     "output_type": "stream",
     "text": [
      "Total driving time for this trip: 3 hours and 24 minutes.\n",
      "============================================================\n",
      "Important Notes:\n",
      "- This duration does not take into account the time needed for damage assessment at each property.\n",
      "- This information is based on the real-time data from Google Maps and may not take into account road closures, flooded roads, or other unusual traffic patterns due to the extreme event that have not been reported to Google Maps. The user is advised to check the new traffic patters.\n"
     ]
    }
   ],
   "source": [
    "# Create a list of addresses based on sequence of optimum route\n",
    "opt_stops = []\n",
    "for i in opt_route:\n",
    "    opt_stops.append(props['address'][i])\n",
    "    \n",
    "# Instantiate a variable for calculating the total driving time\n",
    "total_driving_time = 0\n",
    "\n",
    "for i in range(len(opt_stops)-1):\n",
    "    total_driving_time += get_distance(opt_stops[i], opt_stops[i+1])\n",
    "\n",
    "# adding 30 mins per site visit\n",
    "total_driving_time = total_driving_time+len(way_points)*avg_site_visit*60\n",
    "\n",
    "# calculating hours and minutes for the drive\n",
    "hr = total_driving_time // 3600\n",
    "m = (total_driving_time - hr*3600) // 60 \n",
    "    \n",
    "print(f'Total driving time for this trip: {hr} hours and {m} minutes.')\n",
    "print('='*60)\n",
    "print('Important Notes:')\n",
    "if avg_site_visit==0:\n",
    "    print('- This duration does not take into account the time needed for damage assessment at each property.')\n",
    "else:\n",
    "    print(f'- This duration assumed {avg_site_visit} mins for damage assessment at each property based on user entry.')\n",
    "print('- This information is based on the real-time data from Google Maps and may not take into account road closures, flooded roads, or other unusual traffic patterns due to the extreme event that have not been reported to Google Maps. The user is advised to check the new traffic patters.')\n",
    "\n"
   ]
  },
  {
   "cell_type": "code",
   "execution_count": null,
   "metadata": {},
   "outputs": [],
   "source": []
  }
 ],
 "metadata": {
  "kernelspec": {
   "display_name": "Python 3",
   "language": "python",
   "name": "python3"
  },
  "language_info": {
   "codemirror_mode": {
    "name": "ipython",
    "version": 3
   },
   "file_extension": ".py",
   "mimetype": "text/x-python",
   "name": "python",
   "nbconvert_exporter": "python",
   "pygments_lexer": "ipython3",
   "version": "3.7.3"
  }
 },
 "nbformat": 4,
 "nbformat_minor": 2
}
